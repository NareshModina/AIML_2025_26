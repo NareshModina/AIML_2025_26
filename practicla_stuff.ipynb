{
 "cells": [
  {
   "cell_type": "markdown",
   "id": "77e57a8b",
   "metadata": {},
   "source": [
    "Part 1: NumPy - Numerical Computing\n",
    "\n",
    "NumPy is the fundamental package for numerical computation in Python. It provides a powerful N-dimensional array object and a collection of routines for processing these arrays.\n",
    "\n",
    "Exercise 1: Creating and Inspecting NumPy Arrays\n",
    "- Concept: The foundation of NumPy is the ndarray object. This exercise focuses on creating arrays from Python lists and understanding their basic attributes like shape, size, and data type.\n",
    "\n",
    "- Complete Code Example:"
   ]
  },
  {
   "cell_type": "code",
   "execution_count": null,
   "id": "fca2dc61",
   "metadata": {
    "vscode": {
     "languageId": "plaintext"
    }
   },
   "outputs": [],
   "source": [
    "import numpy as np\n",
    "\n",
    "# Create a 1D array from a list\n",
    "arr1d = np.array([1, 2, 3, 4, 5])\n",
    "print(\"1D Array:\", arr1d)\n",
    "print(\"Shape:\", arr1d.shape)\n",
    "print(\"Data type:\", arr1d.dtype)\n",
    "\n",
    "# Create a 2D array (matrix) from a list of lists\n",
    "arr2d = np.array([[1, 2, 3], [4, 5, 6]])\n",
    "print(\"\\n2D Array:\\n\", arr2d)\n",
    "print(\"Shape:\", arr2d.shape)\n",
    "print(\"Size (total elements):\", arr2d.size)"
   ]
  },
  {
   "cell_type": "markdown",
   "id": "51da9e74",
   "metadata": {},
   "source": []
  }
 ],
 "metadata": {
  "language_info": {
   "name": "python"
  }
 },
 "nbformat": 4,
 "nbformat_minor": 5
}
