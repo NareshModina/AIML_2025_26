{
  "nbformat": 4,
  "nbformat_minor": 0,
  "metadata": {
    "colab": {
      "provenance": []
    },
    "kernelspec": {
      "name": "python3",
      "display_name": "Python 3"
    },
    "language_info": {
      "name": "python"
    }
  },
  "cells": [
    {
      "cell_type": "markdown",
      "source": [
        "AI Course Lab: Hands-on Exercises\n",
        "This lab is designed to give you a practical introduction to some of the most important libraries in the Python data science and AI ecosystem. You will work through exercises covering NumPy, Pandas, Scikit-learn, and Matplotlib.\n",
        "\n",
        "Instructions:\n",
        "\n",
        "- Open a new Google Colab notebook.\n",
        "\n",
        "- For each exercise, read the \"Concept\" and study the \"Complete Code Example\".\n",
        "\n",
        "- Then, complete the \"Student Exercise\" section by writing your own code based on the instructions.\n",
        "\n",
        "## Part 1: NumPy - Numerical Computing\n",
        "NumPy is the fundamental package for numerical computation in Python. It provides a powerful N-dimensional array object and a collection of routines for processing these arrays.\n",
        "\n"
      ],
      "metadata": {
        "id": "Nr88zltnFgre"
      }
    },
    {
      "cell_type": "markdown",
      "source": [
        "### Exercise 1: Creating and Inspecting NumPy Arrays\n",
        "- Concept: The foundation of NumPy is the ndarray object. This exercise focuses on creating arrays from Python lists and understanding their basic attributes like shape, size, and data type.\n",
        "\n",
        "- Complete Code Example:"
      ],
      "metadata": {
        "id": "IKmr-iaSRz5u"
      }
    },
    {
      "cell_type": "code",
      "source": [
        "import numpy as np\n",
        "\n",
        "# Create a 1D array from a list\n",
        "arr1d = np.array([1, 2, 3, 4, 5])\n",
        "print(\"1D Array:\", arr1d)\n",
        "print(\"Shape:\", arr1d.shape)\n",
        "print(\"Data type:\", arr1d.dtype)\n",
        "\n",
        "# Create a 2D array (matrix) from a list of lists\n",
        "arr2d = np.array([[1, 2, 3], [4, 5, 6]])\n",
        "print(\"\\n2D Array:\\n\", arr2d)\n",
        "print(\"Shape:\", arr2d.shape)\n",
        "print(\"Size (total elements):\", arr2d.size)"
      ],
      "metadata": {
        "colab": {
          "base_uri": "https://localhost:8080/"
        },
        "id": "WCKnmd5PF2Ku",
        "outputId": "9636f951-4dbd-489c-c1bf-7a33c49920c5"
      },
      "execution_count": null,
      "outputs": [
        {
          "output_type": "stream",
          "name": "stdout",
          "text": [
            "1D Array: [1 2 3 4 5]\n",
            "Shape: (5,)\n",
            "Data type: int64\n",
            "\n",
            "2D Array:\n",
            " [[1 2 3]\n",
            " [4 5 6]]\n",
            "Shape: (2, 3)\n",
            "Size (total elements): 6\n"
          ]
        }
      ]
    },
    {
      "cell_type": "markdown",
      "source": [
        "- Student Exercise:\n",
        "\n",
        "1. Import the NumPy library with the alias np.\n",
        "\n",
        "2. Create a Python list of lists representing a 3x3 matrix of numbers (e.g., [[10, 20, 30], [40, 50, 60], [70, 80, 90]]).\n",
        "\n",
        "3. Convert this list of lists into a 2D NumPy array called my_matrix.\n",
        "\n",
        "4. Print the my_matrix.\n",
        "\n",
        "5. Print the shape, data type, and total number of elements of my_matrix."
      ],
      "metadata": {
        "id": "FLbglbfWGEsN"
      }
    },
    {
      "cell_type": "markdown",
      "source": [
        "#### Exercise 2: Array Indexing and Slicing\n",
        "- Concept: Accessing and manipulating specific elements or subsections of NumPy arrays. This is crucial for data manipulation.\n",
        "\n",
        "- Complete Code Example:"
      ],
      "metadata": {
        "id": "-9Urrgs1GWHf"
      }
    },
    {
      "cell_type": "code",
      "source": [
        "import numpy as np\n",
        "\n",
        "# Create a 2D array\n",
        "data = np.array([[10, 20, 30, 40],\n",
        "                 [50, 60, 70, 80],\n",
        "                 [90, 100, 110, 120]])\n",
        "\n",
        "# Get a single element (row 1, column 2)\n",
        "element = data[1, 2]\n",
        "print(f\"Element at [1, 2]: {element}\") # Should be 70\n",
        "\n",
        "# Slice to get the first two rows and columns 1 and 2\n",
        "# data[rows, columns] -> :2 means rows 0, 1. 1:3 means columns 1, 2\n",
        "subset = data[:2, 1:3]\n",
        "print(\"\\nSubset (first 2 rows, cols 1-2):\\n\", subset)"
      ],
      "metadata": {
        "colab": {
          "base_uri": "https://localhost:8080/"
        },
        "id": "ahvD4HqYF7p1",
        "outputId": "7deb420e-e1c1-4bed-8f35-43dc27a716e9"
      },
      "execution_count": null,
      "outputs": [
        {
          "output_type": "stream",
          "name": "stdout",
          "text": [
            "Element at [1, 2]: 70\n",
            "\n",
            "Subset (first 2 rows, cols 1-2):\n",
            " [[20 30]\n",
            " [60 70]]\n"
          ]
        }
      ]
    },
    {
      "cell_type": "markdown",
      "source": [
        "- Student Exercise:\n",
        "\n",
        "1. Create a 4x4 NumPy array with integer values from 1 to 16.\n",
        "\n",
        "2. Select and print the element at the last row and last column.\n",
        "\n",
        "3. Select and print the entire second row. (Hint: Use array[row_index])\n",
        "\n",
        "4. Select and print the third column. (Hint: Use array[:, column_index])\n",
        "\n",
        "5. Create a 2x2 sub-array from the top-right corner of the original array and print it."
      ],
      "metadata": {
        "id": "OfNdBB7oGddk"
      }
    },
    {
      "cell_type": "markdown",
      "source": [
        "### Exercise 3: Vectorized Operations (Universal Functions)\n",
        "- Concept: NumPy allows you to perform element-wise operations on arrays without writing explicit loops. This is called vectorization and is much faster.\n",
        "\n",
        "- Complete Code Example:"
      ],
      "metadata": {
        "id": "Kqetlv_1GqF-"
      }
    },
    {
      "cell_type": "code",
      "source": [
        "import numpy as np\n",
        "\n",
        "# Create two arrays\n",
        "a = np.array([1, 2, 3])\n",
        "b = np.array([10, 20, 30])\n",
        "\n",
        "# Element-wise addition\n",
        "sum_arr = a + b\n",
        "print(f\"a + b = {sum_arr}\")\n",
        "\n",
        "# Element-wise multiplication\n",
        "prod_arr = a * b\n",
        "print(f\"a * b = {prod_arr}\")\n",
        "\n",
        "# Universal function (ufunc)\n",
        "sqrt_arr = np.sqrt(a)\n",
        "print(f\"sqrt(a) = {sqrt_arr}\")\n"
      ],
      "metadata": {
        "colab": {
          "base_uri": "https://localhost:8080/"
        },
        "id": "T5WeUFUZGcgL",
        "outputId": "6362a7d8-d480-407a-d868-0ab259300389"
      },
      "execution_count": null,
      "outputs": [
        {
          "output_type": "stream",
          "name": "stdout",
          "text": [
            "a + b = [11 22 33]\n",
            "a * b = [10 40 90]\n",
            "sqrt(a) = [1.         1.41421356 1.73205081]\n"
          ]
        }
      ]
    },
    {
      "cell_type": "markdown",
      "source": [
        "- Student Exercise:\n",
        "1. Create a NumPy array named temps_celsius containing the values [0, 10, 20, 30, 40].\n",
        "\n",
        "2. Using a vectorized operation, convert all temperatures to Fahrenheit. The formula is F = C * 9/5 + 32. Store the result in an array called temps_fahrenheit.\n",
        "\n",
        "3. Print both the Celsius and Fahrenheit arrays.\n",
        "\n",
        "4. Calculate the sine of every element in the temps_celsius array using a NumPy universal function."
      ],
      "metadata": {
        "id": "nLe9s3wXHGew"
      }
    },
    {
      "cell_type": "code",
      "source": [
        "\n",
        "\n"
      ],
      "metadata": {
        "id": "HNdjKTOtG5vN"
      },
      "execution_count": null,
      "outputs": []
    },
    {
      "cell_type": "markdown",
      "source": [
        "### Exercise 4: Aggregation Functions\n",
        "- Concept: Calculating summary statistics like mean, sum, min, and max for an entire array or along a specific axis (rows or columns).\n",
        "\n",
        "- Complete Code Example:"
      ],
      "metadata": {
        "id": "Kp7WUBy6HQDN"
      }
    },
    {
      "cell_type": "code",
      "source": [
        "import numpy as np\n",
        "\n",
        "matrix = np.array([[1, 2, 3],\n",
        "                   [4, 5, 6],\n",
        "                   [7, 8, 9]])\n",
        "\n",
        "print(\"Matrix:\\n\", matrix)\n",
        "print(f\"Sum of all elements: {matrix.sum()}\")\n",
        "print(f\"Mean of all elements: {matrix.mean()}\")\n",
        "print(f\"Max value: {matrix.max()}\")\n",
        "\n",
        "# Aggregation along an axis\n",
        "# axis=0 -> aggregate down the columns\n",
        "# axis=1 -> aggregate across the rows\n",
        "print(f\"\\nSum of each column: {matrix.sum(axis=0)}\")\n",
        "print(f\"Mean of each row: {matrix.mean(axis=1)}\")\n"
      ],
      "metadata": {
        "colab": {
          "base_uri": "https://localhost:8080/"
        },
        "id": "hvfO3o9RHBvw",
        "outputId": "b984cf2e-b60b-421c-cd3d-968883877e94"
      },
      "execution_count": null,
      "outputs": [
        {
          "output_type": "stream",
          "name": "stdout",
          "text": [
            "Matrix:\n",
            " [[1 2 3]\n",
            " [4 5 6]\n",
            " [7 8 9]]\n",
            "Sum of all elements: 45\n",
            "Mean of all elements: 5.0\n",
            "Max value: 9\n",
            "\n",
            "Sum of each column: [12 15 18]\n",
            "Mean of each row: [2. 5. 8.]\n"
          ]
        }
      ]
    },
    {
      "cell_type": "markdown",
      "source": [
        "- Student Exercise:\n",
        "\n",
        "1. Create a 3x5 NumPy array with random integers between 1 and 100. (Hint: Use np.random.randint(1, 101, size=(3, 5))).\n",
        "\n",
        "2. Find and print the minimum value in the entire array.\n",
        "\n",
        "3. Find and print the maximum value in each row.\n",
        "\n",
        "4. Calculate and print the sum of each column."
      ],
      "metadata": {
        "id": "Zc7-J89wHiGP"
      }
    },
    {
      "cell_type": "markdown",
      "source": [
        "### Exercise 5: Broadcasting\n",
        "- Concept: Broadcasting describes how NumPy treats arrays with different shapes during arithmetic operations. It allows you to efficiently perform operations between a smaller and a larger array.\n",
        "\n",
        "- Complete Code Example:"
      ],
      "metadata": {
        "id": "aP0DBCiRHtUe"
      }
    },
    {
      "cell_type": "code",
      "source": [
        "import numpy as np\n",
        "\n",
        "matrix = np.array([[1, 2, 3], [4, 5, 6]])\n",
        "scalar = 10\n",
        "\n",
        "# Add a scalar to every element of the matrix\n",
        "result = matrix + scalar\n",
        "print(\"Matrix + scalar:\\n\", result)\n",
        "\n",
        "vector = np.array([100, 200, 300])\n",
        "\n",
        "# Add a 1D vector to each row of the 2D matrix\n",
        "result_vec = matrix + vector\n",
        "print(\"\\nMatrix + vector:\\n\", result_vec)"
      ],
      "metadata": {
        "colab": {
          "base_uri": "https://localhost:8080/"
        },
        "id": "IQK_oJgzHb_-",
        "outputId": "052d8a0e-22fb-43ca-fbaf-1f2676c7fd08"
      },
      "execution_count": null,
      "outputs": [
        {
          "output_type": "stream",
          "name": "stdout",
          "text": [
            "Matrix + scalar:\n",
            " [[11 12 13]\n",
            " [14 15 16]]\n",
            "\n",
            "Matrix + vector:\n",
            " [[101 202 303]\n",
            " [104 205 306]]\n"
          ]
        }
      ]
    },
    {
      "cell_type": "markdown",
      "source": [
        "- Student Exercise:\n",
        "\n",
        "1. Create a 4x3 NumPy array (4 rows, 3 columns) of all ones. (Hint: np.ones(...)).\n",
        "\n",
        "2. Create a 1D array (a vector) with the values [10, 20, 30].\n",
        "\n",
        "3. Use broadcasting to multiply each row of the 4x3 matrix by the vector.\n",
        "\n",
        "4. Print the original matrix, the vector, and the final result.\n",
        "\n"
      ],
      "metadata": {
        "id": "pp5ujiKZIBF-"
      }
    },
    {
      "cell_type": "markdown",
      "source": [
        "## Part 2: Pandas - Data Manipulation and Analysis\n",
        "Pandas is built on top of NumPy and is the primary tool for data wrangling and analysis. It introduces two key data structures: the Series (1D) and the DataFrame (2D)."
      ],
      "metadata": {
        "id": "D_dsrTHsIKeV"
      }
    },
    {
      "cell_type": "markdown",
      "source": [
        "### Exercise 1: Creating a DataFrame\n",
        "- Concept: The DataFrame is a 2D labeled data structure like a spreadsheet or SQL table. This exercise covers creating one from a Python dictionary.\n",
        "\n",
        "- Complete Code Example:"
      ],
      "metadata": {
        "id": "PxJ2Q4IOIQXe"
      }
    },
    {
      "cell_type": "code",
      "source": [
        "import pandas as pd\n",
        "\n",
        "# Data in a dictionary\n",
        "data = {\n",
        "    'Name': ['Alice', 'Bob', 'Charlie'],\n",
        "    'Age': [25, 30, 35],\n",
        "    'City': ['New York', 'Los Angeles', 'Chicago']\n",
        "}\n",
        "\n",
        "# Create DataFrame\n",
        "df = pd.DataFrame(data)\n",
        "print(df)\n"
      ],
      "metadata": {
        "colab": {
          "base_uri": "https://localhost:8080/"
        },
        "id": "lrclf8NyIPso",
        "outputId": "bb9e41b9-6513-4113-9b65-463a037caef9"
      },
      "execution_count": null,
      "outputs": [
        {
          "output_type": "stream",
          "name": "stdout",
          "text": [
            "      Name  Age         City\n",
            "0    Alice   25     New York\n",
            "1      Bob   30  Los Angeles\n",
            "2  Charlie   35      Chicago\n"
          ]
        }
      ]
    },
    {
      "cell_type": "markdown",
      "source": [
        "- Student Exercise:\n",
        "\n",
        "1. Import the Pandas library with the alias pd.\n",
        "\n",
        "2. Create a Python dictionary to store information about your favorite books. It should have three keys: 'Title', 'Author', and 'Year Published'. Each key should correspond to a list of at least three entries.\n",
        "\n",
        "4. Convert this dictionary into a Pandas DataFrame called books_df.\n",
        "\n",
        "4. Print the DataFrame.\n",
        "\n"
      ],
      "metadata": {
        "id": "PtzL4T4PIcbp"
      }
    },
    {
      "cell_type": "markdown",
      "source": [
        "### Exercise 2: Loading Data and Basic Inspection\n",
        "- Concept: A common task is to load data from an external file (like a CSV) into a DataFrame and then inspect its contents.\n",
        "\n",
        "- Complete Code Example:"
      ],
      "metadata": {
        "id": "sP9zypqPItfX"
      }
    },
    {
      "cell_type": "code",
      "source": [
        "import pandas as pd\n",
        "from io import StringIO\n",
        "\n",
        "# In a real scenario, you'd use pd.read_csv('your_file.csv')\n",
        "# Here, we simulate a CSV file with StringIO\n",
        "csv_data = \"\"\"product_id,product_name,price\n",
        "101,Laptop,1200\n",
        "102,Mouse,25\n",
        "103,Keyboard,75\n",
        "104,Monitor,300\n",
        "\"\"\"\n",
        "\n",
        "df = pd.read_csv(StringIO(csv_data))\n",
        "\n",
        "# Inspect the data\n",
        "print(\"First 3 rows:\\n\", df.head(3))\n",
        "print(\"\\nDataFrame Info:\")\n",
        "df.info()\n",
        "print(\"\\nDescriptive Statistics:\\n\", df.describe())"
      ],
      "metadata": {
        "colab": {
          "base_uri": "https://localhost:8080/"
        },
        "id": "u0AiyfJTIXXs",
        "outputId": "32a48901-b3c6-423f-a091-f0dd88bc1a5e"
      },
      "execution_count": null,
      "outputs": [
        {
          "output_type": "stream",
          "name": "stdout",
          "text": [
            "First 3 rows:\n",
            "    product_id product_name  price\n",
            "0         101       Laptop   1200\n",
            "1         102        Mouse     25\n",
            "2         103     Keyboard     75\n",
            "\n",
            "DataFrame Info:\n",
            "<class 'pandas.core.frame.DataFrame'>\n",
            "RangeIndex: 4 entries, 0 to 3\n",
            "Data columns (total 3 columns):\n",
            " #   Column        Non-Null Count  Dtype \n",
            "---  ------        --------------  ----- \n",
            " 0   product_id    4 non-null      int64 \n",
            " 1   product_name  4 non-null      object\n",
            " 2   price         4 non-null      int64 \n",
            "dtypes: int64(2), object(1)\n",
            "memory usage: 228.0+ bytes\n",
            "\n",
            "Descriptive Statistics:\n",
            "        product_id        price\n",
            "count    4.000000     4.000000\n",
            "mean   102.500000   400.000000\n",
            "std      1.290994   546.580278\n",
            "min    101.000000    25.000000\n",
            "25%    101.750000    62.500000\n",
            "50%    102.500000   187.500000\n",
            "75%    103.250000   525.000000\n",
            "max    104.000000  1200.000000\n"
          ]
        }
      ]
    },
    {
      "cell_type": "markdown",
      "source": [
        "- Student Exercise:\n",
        "\n",
        "1. Find a simple CSV dataset online (e.g., search for \"sample titanic dataset csv\") and get its raw URL.\n",
        "\n",
        "2. Use pd.read_csv() with the URL to load the data into a DataFrame.\n",
        "\n",
        "3. Use the .head() method to display the first 5 rows.\n",
        "\n",
        "4. Use the .info() method to see the data types and non-null counts.\n",
        "\n",
        "5. Use the .shape attribute to find out how many rows and columns are in the dataset."
      ],
      "metadata": {
        "id": "tHiBI8AhI53u"
      }
    },
    {
      "cell_type": "markdown",
      "source": [
        "### Exercise 3: Selection and Filtering\n",
        "- Concept: Selecting specific columns or filtering rows based on conditions is fundamental to data analysis.\n",
        "\n",
        "- Complete Code Example:"
      ],
      "metadata": {
        "id": "i2PC_3GyJDIN"
      }
    },
    {
      "cell_type": "code",
      "source": [
        "import pandas as pd\n",
        "\n",
        "data = {\n",
        "    'Name': ['Alice', 'Bob', 'Charlie', 'David'],\n",
        "    'Age': [25, 30, 22, 35],\n",
        "    'City': ['New York', 'Los Angeles', 'Chicago', 'Houston']\n",
        "}\n",
        "df = pd.DataFrame(data)\n",
        "\n",
        "# Select a single column\n",
        "ages = df['Age']\n",
        "print(\"Ages column:\\n\", ages)\n",
        "\n",
        "# Select multiple columns\n",
        "name_city = df[['Name', 'City']]\n",
        "print(\"\\nName and City columns:\\n\", name_city)\n",
        "\n",
        "# Filter rows based on a condition\n",
        "people_over_25 = df[df['Age'] > 25]\n",
        "print(\"\\nPeople older than 25:\\n\", people_over_25)"
      ],
      "metadata": {
        "colab": {
          "base_uri": "https://localhost:8080/"
        },
        "id": "i9USYgJzI1SB",
        "outputId": "5b61083d-4db3-4fb2-f7e6-68e77c7a67f6"
      },
      "execution_count": null,
      "outputs": [
        {
          "output_type": "stream",
          "name": "stdout",
          "text": [
            "Ages column:\n",
            " 0    25\n",
            "1    30\n",
            "2    22\n",
            "3    35\n",
            "Name: Age, dtype: int64\n",
            "\n",
            "Name and City columns:\n",
            "       Name         City\n",
            "0    Alice     New York\n",
            "1      Bob  Los Angeles\n",
            "2  Charlie      Chicago\n",
            "3    David      Houston\n",
            "\n",
            "People older than 25:\n",
            "     Name  Age         City\n",
            "1    Bob   30  Los Angeles\n",
            "3  David   35      Houston\n"
          ]
        }
      ]
    },
    {
      "cell_type": "markdown",
      "source": [
        "- Student Exercise:\n",
        "\n",
        "1. Using the DataFrame from the previous exercise (the one you loaded from a CSV).\n",
        "\n",
        "2. Select and print just the 'Age' and 'Sex' columns (or two other relevant columns from your dataset).\n",
        "\n",
        "3. Filter the DataFrame to show only passengers who were older than 50. Print the first 5 rows of this filtered data.\n",
        "\n",
        "4. Filter the DataFrame to show only passengers who embarked from a specific port (e.g., 'S' for Southampton in the Titanic dataset)."
      ],
      "metadata": {
        "id": "f0Zia_J7JQua"
      }
    },
    {
      "cell_type": "markdown",
      "source": [
        "### Exercise 4: Creating New Columns\n",
        "- Concept: Often, you need to create new features (columns) based on existing data to facilitate analysis.\n",
        "\n",
        "- Complete Code Example:"
      ],
      "metadata": {
        "id": "qPQSFNcxJaGM"
      }
    },
    {
      "cell_type": "code",
      "source": [
        "import pandas as pd\n",
        "\n",
        "df = pd.DataFrame({\n",
        "    'price': [100, 150, 200],\n",
        "    'quantity': [5, 10, 3]\n",
        "})\n",
        "\n",
        "# Create a new column 'total_value'\n",
        "df['total_value'] = df['price'] * df['quantity']\n",
        "print(df)"
      ],
      "metadata": {
        "colab": {
          "base_uri": "https://localhost:8080/"
        },
        "id": "twcIOlDYJKbg",
        "outputId": "bc95b170-9a3b-4e51-8bc3-b471e7d8c6ef"
      },
      "execution_count": null,
      "outputs": [
        {
          "output_type": "stream",
          "name": "stdout",
          "text": [
            "   price  quantity  total_value\n",
            "0    100         5          500\n",
            "1    150        10         1500\n",
            "2    200         3          600\n"
          ]
        }
      ]
    },
    {
      "cell_type": "markdown",
      "source": [
        "- Student Exercise:\n",
        "\n",
        "1. Create a DataFrame with columns 'FirstName' and 'LastName'.\n",
        "\n",
        "2. Create a new column called 'FullName' by combining the 'FirstName' and 'LastName' columns, separated by a space.\n",
        "\n",
        "3. Create another new column called 'NameLength' that contains the character length of the 'FullName'.\n",
        "\n",
        "4. Print the final DataFrame.\n",
        "\n"
      ],
      "metadata": {
        "id": "obWvhJfRJi40"
      }
    },
    {
      "cell_type": "markdown",
      "source": [
        "### Exercise 5: Grouping and Aggregating\n",
        "- Concept: The \"group by\" operation allows you to split data into groups, apply a function to each group independently, and combine the results.\n",
        "\n",
        "- Complete Code Example"
      ],
      "metadata": {
        "id": "fShis7LfJz1c"
      }
    },
    {
      "cell_type": "code",
      "source": [
        "import pandas as pd\n",
        "\n",
        "data = {\n",
        "    'Department': ['Sales', 'HR', 'Sales', 'IT', 'HR', 'IT'],\n",
        "    'Salary': [70000, 50000, 80000, 90000, 55000, 95000]\n",
        "}\n",
        "df = pd.DataFrame(data)\n",
        "\n",
        "# Group by department and calculate the average salary\n",
        "avg_salary_by_dept = df.groupby('Department')['Salary'].mean()\n",
        "print(\"Average salary by department:\\n\", avg_salary_by_dept)"
      ],
      "metadata": {
        "colab": {
          "base_uri": "https://localhost:8080/"
        },
        "id": "5PhS4o3qJgVn",
        "outputId": "373c5b0e-4eec-48ff-99ce-ba9d796e8722"
      },
      "execution_count": null,
      "outputs": [
        {
          "output_type": "stream",
          "name": "stdout",
          "text": [
            "Average salary by department:\n",
            " Department\n",
            "HR       52500.0\n",
            "IT       92500.0\n",
            "Sales    75000.0\n",
            "Name: Salary, dtype: float64\n"
          ]
        }
      ]
    },
    {
      "cell_type": "markdown",
      "source": [
        "- Student Exercise:\n",
        "\n",
        "1. Using the dataset you loaded from a CSV file.\n",
        "\n",
        "2. Group the data by the 'Sex' column (or another categorical column).\n",
        "\n",
        "3. Calculate the average 'Age' for each sex.\n",
        "\n",
        "4. Group the data by the 'Pclass' column (passenger class in Titanic) and count the number of passengers in each class. (Hint: use .size() or .count())."
      ],
      "metadata": {
        "id": "simj_j5uJ_QO"
      }
    },
    {
      "cell_type": "markdown",
      "source": [
        "## Part 3: Matplotlib - Data Visualization\n",
        "Matplotlib is a comprehensive library for creating static, animated, and interactive visualizations in Python."
      ],
      "metadata": {
        "id": "NspjopOhKOfD"
      }
    },
    {
      "cell_type": "markdown",
      "source": [
        "### Exercise 1: Simple Line Plot\n",
        "- Concept: The most basic plot, showing the relationship between two sets of values. Ideal for visualizing trends over time.\n",
        "\n",
        "- Complete Code Example:"
      ],
      "metadata": {
        "id": "pZ6I5QdPKYB1"
      }
    },
    {
      "cell_type": "code",
      "source": [
        "import matplotlib.pyplot as plt\n",
        "import numpy as np\n",
        "\n",
        "# Data\n",
        "x = np.arange(0, 10, 0.1)\n",
        "y = np.sin(x)\n",
        "\n",
        "# Create plot\n",
        "plt.figure(figsize=(8, 4)) # Optional: set figure size\n",
        "plt.plot(x, y)\n",
        "\n",
        "# Add labels and title\n",
        "plt.xlabel(\"X-axis\")\n",
        "plt.ylabel(\"Y-axis (sin(x))\")\n",
        "plt.title(\"Simple Sine Wave\")\n",
        "plt.grid(True) # Add a grid\n",
        "\n",
        "# Show plot\n",
        "plt.show()\n"
      ],
      "metadata": {
        "colab": {
          "base_uri": "https://localhost:8080/",
          "height": 410
        },
        "id": "mk_hFXbDLC1s",
        "outputId": "182f8dfe-4b58-4603-a939-c7dc3ec55726"
      },
      "execution_count": null,
      "outputs": [
        {
          "output_type": "display_data",
          "data": {
            "text/plain": [
              "<Figure size 800x400 with 1 Axes>"
            ],
            "image/png": "[encoded data removed]"
          },
          "metadata": {}
        }
      ]
    },
    {
      "cell_type": "markdown",
      "source": [
        "- Student Exercise:\n",
        "\n",
        "1. Import matplotlib.pyplot as plt.\n",
        "\n",
        "2. Create a list of numbers for the x-axis, for example, [2018, 2019, 2020, 2021, 2022].\n",
        "\n",
        "3. Create a corresponding list of numbers for the y-axis, representing, for instance, sales figures: [50, 75, 60, 90, 110].\n",
        "\n",
        "4. Create a line plot of this data.\n",
        "\n",
        "5. Add a title \"Annual Sales\", an x-axis label \"Year\", and a y-axis label \"Sales (in millions)\".\n",
        "\n",
        "6. Display the plot.\n",
        "\n"
      ],
      "metadata": {
        "id": "pDo6oGXlLGkm"
      }
    },
    {
      "cell_type": "markdown",
      "source": [
        "### Exercise 2: Scatter Plot\n",
        "- Concept: Scatter plots are used to visualize the relationship between two numerical variables. Each dot represents an observation.\n",
        "\n",
        "- Complete Code Example:"
      ],
      "metadata": {
        "id": "--385QQPLOuE"
      }
    },
    {
      "cell_type": "code",
      "source": [
        "import matplotlib.pyplot as plt\n",
        "import numpy as np\n",
        "\n",
        "# Generate random data\n",
        "np.random.seed(42)\n",
        "x = np.random.rand(50)\n",
        "y = 2 * x + 1 + 0.1 * np.random.randn(50)\n",
        "\n",
        "# Create scatter plot\n",
        "plt.figure(figsize=(8, 5))\n",
        "plt.scatter(x, y, color='red', marker='o') # Customize color and marker\n",
        "\n",
        "plt.xlabel(\"Independent Variable\")\n",
        "plt.ylabel(\"Dependent Variable\")\n",
        "plt.title(\"Relationship between Two Variables\")\n",
        "plt.show()"
      ],
      "metadata": {
        "colab": {
          "base_uri": "https://localhost:8080/",
          "height": 487
        },
        "id": "vsKUCQBzLT0O",
        "outputId": "904243a2-925f-4b32-e638-df0a8a3c0600"
      },
      "execution_count": null,
      "outputs": [
        {
          "output_type": "display_data",
          "data": {
            "text/plain": [
              "<Figure size 800x500 with 1 Axes>"
            ],
            "image/png": "[encoded data removed]"
          },
          "metadata": {}
        }
      ]
    },
    {
      "cell_type": "markdown",
      "source": [
        "- Student Exercise:\n",
        "\n",
        "1. Create two NumPy arrays, height and weight, each with 50 random numbers representing a sample of people. height could range from 150-190 cm and weight from 50-100 kg.\n",
        "\n",
        "2. Create a scatter plot with height on the x-axis and weight on the y-axis.\n",
        "\n",
        "3. Add a title and appropriate axis labels.\n",
        "\n",
        "4. Experiment by changing the color of the points to blue and the marker style to x.\n",
        "\n",
        "5. Display the plot."
      ],
      "metadata": {
        "id": "5HOX9PLlLbOM"
      }
    },
    {
      "cell_type": "markdown",
      "source": [
        "### Exercise 3: Bar Chart\n",
        "- Concept: Bar charts are excellent for comparing quantities among different categories.\n",
        "\n",
        "- Complete Code Example:"
      ],
      "metadata": {
        "id": "OoHqSr2ELt5e"
      }
    },
    {
      "cell_type": "code",
      "source": [
        "import matplotlib.pyplot as plt\n",
        "\n",
        "# Data\n",
        "categories = ['Apples', 'Oranges', 'Bananas', 'Grapes']\n",
        "values = [20, 15, 30, 25]\n",
        "\n",
        "plt.figure(figsize=(7, 5))\n",
        "plt.bar(categories, values, color='skyblue')\n",
        "\n",
        "plt.xlabel(\"Fruit\")\n",
        "plt.ylabel(\"Quantity\")\n",
        "plt.title(\"Fruit Inventory\")\n",
        "plt.show()"
      ],
      "metadata": {
        "colab": {
          "base_uri": "https://localhost:8080/",
          "height": 487
        },
        "id": "w4Rf9KFyLz1x",
        "outputId": "068f8306-de01-4988-837d-c21cfc2ec175"
      },
      "execution_count": null,
      "outputs": [
        {
          "output_type": "display_data",
          "data": {
            "text/plain": [
              "<Figure size 700x500 with 1 Axes>"
            ],
            "image/png": "[encoded data removed]"
          },
          "metadata": {}
        }
      ]
    },
    {
      "cell_type": "markdown",
      "source": [
        "- Student Exercise:\n",
        "\n",
        "1. Create a list of programming languages: ['Python', 'Java', 'C++', 'JavaScript'].\n",
        "\n",
        "2. Create a corresponding list of their popularity scores (any numbers you choose, e.g., [95, 80, 75, 90]).\n",
        "\n",
        "3. Create a horizontal bar chart to display this data. (Hint: use plt.barh()).\n",
        "\n",
        "4. Add a title \"Programming Language Popularity\" and appropriate labels.\n",
        "\n",
        "5. Display the plot."
      ],
      "metadata": {
        "id": "pJcvllIsL5HZ"
      }
    },
    {
      "cell_type": "markdown",
      "source": [
        "### Exercise 4: Histogram\n",
        "- Concept: A histogram shows the distribution of a single numerical variable by dividing the data into \"bins\" and counting the number of observations in each bin.\n",
        "\n",
        "- Complete Code Example:"
      ],
      "metadata": {
        "id": "zu7B0hf2MBCV"
      }
    },
    {
      "cell_type": "code",
      "source": [
        "import matplotlib.pyplot as plt\n",
        "import numpy as np\n",
        "\n",
        "# Generate data from a normal distribution\n",
        "np.random.seed(101)\n",
        "data = np.random.randn(1000)\n",
        "\n",
        "plt.figure(figsize=(8, 5))\n",
        "# 'bins=30' creates 30 bars\n",
        "# 'edgecolor' makes the bars distinct\n",
        "plt.hist(data, bins=30, color='green', edgecolor='black')\n",
        "\n",
        "plt.xlabel(\"Value\")\n",
        "plt.ylabel(\"Frequency\")\n",
        "plt.title(\"Distribution of Random Data\")\n",
        "plt.show()\n"
      ],
      "metadata": {
        "colab": {
          "base_uri": "https://localhost:8080/",
          "height": 487
        },
        "id": "dHL2WCYkMGFS",
        "outputId": "e484d2ec-385e-4296-91a9-f4d19865e969"
      },
      "execution_count": null,
      "outputs": [
        {
          "output_type": "display_data",
          "data": {
            "text/plain": [
              "<Figure size 800x500 with 1 Axes>"
            ],
            "image/png": "[encoded data removed]"
          },
          "metadata": {}
        }
      ]
    },
    {
      "cell_type": "markdown",
      "source": [
        "- Student Exercise:\n",
        "\n",
        "1. Create a NumPy array of 500 random integers, where each integer is between 1 and 100.\n",
        "\n",
        "2. Create a histogram of this data.\n",
        "\n",
        "3. Experiment with the number of bins (try 10, then 20, then 50) to see how it changes the plot's appearance.\n",
        "\n",
        "4. Add a title and axis labels.\n",
        "\n",
        "5. Display the final plot.\n",
        "\n"
      ],
      "metadata": {
        "id": "HEZwvEwFMJsA"
      }
    },
    {
      "cell_type": "markdown",
      "source": [
        "### Exercise 5: Subplots\n",
        "- Concept: Displaying multiple plots in a single figure. This is useful for comparing different views of your data side-by-side.\n",
        "\n",
        "- Complete Code Example:"
      ],
      "metadata": {
        "id": "N2c_tj00MQio"
      }
    },
    {
      "cell_type": "code",
      "source": [
        "import matplotlib.pyplot as plt\n",
        "import numpy as np\n",
        "\n",
        "x = np.linspace(0, 2 * np.pi, 100)\n",
        "y_sin = np.sin(x)\n",
        "y_cos = np.cos(x)\n",
        "\n",
        "# plt.subplots(nrows, ncols)\n",
        "fig, axes = plt.subplots(1, 2, figsize=(12, 4)) # 1 row, 2 columns\n",
        "\n",
        "# Plot on the first subplot (index 0)\n",
        "axes[0].plot(x, y_sin, color='blue')\n",
        "axes[0].set_title(\"Sine Wave\")\n",
        "\n",
        "# Plot on the second subplot (index 1)\n",
        "axes[1].plot(x, y_cos, color='red')\n",
        "axes[1].set_title(\"Cosine Wave\")\n",
        "\n",
        "plt.suptitle(\"Trigonometric Functions\") # Overall title\n",
        "plt.show()"
      ],
      "metadata": {
        "colab": {
          "base_uri": "https://localhost:8080/",
          "height": 408
        },
        "id": "tDkWG1PZJ9RL",
        "outputId": "e643c133-7b89-4dde-b2b9-5d3390a36e39"
      },
      "execution_count": null,
      "outputs": [
        {
          "output_type": "display_data",
          "data": {
            "text/plain": [
              "<Figure size 1200x400 with 2 Axes>"
            ],
            "image/png": "[encoded data removed]"
          },
          "metadata": {}
        }
      ]
    },
    {
      "cell_type": "markdown",
      "source": [
        "- Student Exercise:\n",
        "\n",
        "1. Create data for a line plot and a scatter plot.\n",
        "\n",
        "2. Create a figure that contains two subplots arranged vertically (2 rows, 1 column).\n",
        "\n",
        "3. In the top subplot, draw the line plot.\n",
        "\n",
        "4. In the bottom subplot, draw the scatter plot.\n",
        "\n",
        "5. Give each subplot its own title.\n",
        "\n",
        "6. Display the figure."
      ],
      "metadata": {
        "id": "K0VECWn6KkiJ"
      }
    },
    {
      "cell_type": "markdown",
      "source": [
        "## Part 4: Scikit-learn - Machine Learning\n",
        "Scikit-learn is a simple and efficient tool for data mining and data analysis. It features various classification, regression, and clustering algorithms."
      ],
      "metadata": {
        "id": "a7E8In3wMhHx"
      }
    },
    {
      "cell_type": "markdown",
      "source": [
        "## Exercise 1: Data Splitting\n",
        "- Concept: Before training a model, you must split your data into a training set (to train the model) and a testing set (to evaluate its performance on unseen data).\n",
        "\n",
        "- Complete Code Example:"
      ],
      "metadata": {
        "id": "OmyI-1umMk7p"
      }
    },
    {
      "cell_type": "code",
      "source": [
        "import numpy as np\n",
        "from sklearn.model_selection import train_test_split\n",
        "\n",
        "# Sample data: X features, y target\n",
        "X = np.arange(20).reshape(10, 2) # 10 samples, 2 features\n",
        "y = np.arange(10) # 10 target labels\n",
        "\n",
        "# Split the data\n",
        "# test_size=0.3 means 30% for testing, 70% for training\n",
        "# random_state ensures the split is the same every time\n",
        "X_train, X_test, y_train, y_test = train_test_split(\n",
        "    X, y, test_size=0.3, random_state=42\n",
        ")\n",
        "\n",
        "print(\"X_train shape:\", X_train.shape)\n",
        "print(\"X_test shape:\", X_test.shape)\n"
      ],
      "metadata": {
        "colab": {
          "base_uri": "https://localhost:8080/"
        },
        "id": "YoAjFgiqKevl",
        "outputId": "5687c532-3530-426c-c2f0-c80fdf315e68"
      },
      "execution_count": null,
      "outputs": [
        {
          "output_type": "stream",
          "name": "stdout",
          "text": [
            "X_train shape: (7, 2)\n",
            "X_test shape: (3, 2)\n"
          ]
        }
      ]
    },
    {
      "cell_type": "markdown",
      "source": [
        "- Student Exercise:\n",
        "\n",
        "1. Load the Iris dataset from scikit-learn. (Hint: from sklearn.datasets import load_iris).\n",
        "\n",
        "2. The features are in iris.data and the target is in iris.target. Assign them to variables X and y.\n",
        "\n",
        "3. Split X and y into training and testing sets. Use 25% of the data for testing and set random_state=101.\n",
        "\n",
        "4. Print the shapes of X_train, X_test, y_train, and y_test to confirm the split."
      ],
      "metadata": {
        "id": "lB6_QrWmMxVQ"
      }
    },
    {
      "cell_type": "markdown",
      "source": [
        "### Exercise 2: Training a Simple Model (Linear Regression)\n",
        "- Concept: The core of machine learning: fitting a model to your training data. Here we use linear regression, which finds the best-fitting line through the data.\n",
        "\n",
        "- Complete Code Example:"
      ],
      "metadata": {
        "id": "VUvQl9CKM4Z-"
      }
    },
    {
      "cell_type": "code",
      "source": [
        "import numpy as np\n",
        "from sklearn.model_selection import train_test_split\n",
        "from sklearn.linear_model import LinearRegression\n",
        "\n",
        "# Generate some sample data\n",
        "X = np.array([[1], [2], [3], [4], [5]])\n",
        "y = np.array([2, 4, 5, 4, 5])\n",
        "X_train, X_test, y_train, y_test = train_test_split(X, y, random_state=0)\n",
        "\n",
        "# 1. Initialize the model\n",
        "model = LinearRegression()\n",
        "\n",
        "# 2. Train (fit) the model on the training data\n",
        "model.fit(X_train, y_train)\n",
        "\n",
        "print(\"Model training complete.\")\n",
        "print(\"Coefficient (slope):\", model.coef_)\n",
        "print(\"Intercept:\", model.intercept_)"
      ],
      "metadata": {
        "colab": {
          "base_uri": "https://localhost:8080/"
        },
        "id": "beGW9iWhMsVx",
        "outputId": "26da8245-ce37-4926-88db-5d29583cd9be"
      },
      "execution_count": null,
      "outputs": [
        {
          "output_type": "stream",
          "name": "stdout",
          "text": [
            "Model training complete.\n",
            "Coefficient (slope): [0.28571429]\n",
            "Intercept: 3.2857142857142856\n"
          ]
        }
      ]
    },
    {
      "cell_type": "markdown",
      "source": [
        "- Student Exercise:\n",
        "\n",
        "1. Create your own simple dataset for linear regression. Make X a NumPy array of shape (10, 1) with values [0, 1, 2, ..., 9]. Make y based on a linear-like equation, e.g., y = 2 * X.flatten() + 1 + np.random.randn(10) (the random part adds noise).\n",
        "\n",
        "2. Initialize a LinearRegression model.\n",
        "\n",
        "3. Fit the model to your entire X and y dataset.\n",
        "\n",
        "4. Print the model's learned coefficient and intercept. Does it come close to 2 and 1?\n",
        "\n"
      ],
      "metadata": {
        "id": "PEpYzaIuNBG4"
      }
    },
    {
      "cell_type": "markdown",
      "source": [
        "### Exercise 3: Model Prediction\n",
        "Concept: Once a model is trained, you can use it to make predictions on new, unseen data (like your test set).\n",
        "\n",
        "Complete Code Example:"
      ],
      "metadata": {
        "id": "OVp3VUM5NJv5"
      }
    },
    {
      "cell_type": "code",
      "source": [
        "# (Continued from previous example)\n",
        "import numpy as np\n",
        "from sklearn.model_selection import train_test_split\n",
        "from sklearn.linear_model import LinearRegression\n",
        "\n",
        "X = np.array([[1], [2], [3], [4], [5]])\n",
        "y = np.array([2, 4, 5, 4, 5])\n",
        "X_train, X_test, y_train, y_test = train_test_split(X, y, random_state=0)\n",
        "model = LinearRegression()\n",
        "model.fit(X_train, y_train)\n",
        "\n",
        "# Make predictions on the test set\n",
        "y_pred = model.predict(X_test)\n",
        "\n",
        "print(\"Actual values (y_test):\", y_test)\n",
        "print(\"Predicted values:\", y_pred)\n"
      ],
      "metadata": {
        "colab": {
          "base_uri": "https://localhost:8080/"
        },
        "id": "efbZOEFSM-AW",
        "outputId": "308eb73e-3955-44a6-a4c3-349d678ff7e2"
      },
      "execution_count": null,
      "outputs": [
        {
          "output_type": "stream",
          "name": "stdout",
          "text": [
            "Actual values (y_test): [5 2]\n",
            "Predicted values: [4.14285714 3.57142857]\n"
          ]
        }
      ]
    },
    {
      "cell_type": "markdown",
      "source": [
        "- Student Exercise:\n",
        "\n",
        "1. Use the Iris dataset and split from Exercise 1.\n",
        "\n",
        "2. Train a classification model, like KNeighborsClassifier. (Hint: from sklearn.neighbors import KNeighborsClassifier). Initialize it with n_neighbors=3.\n",
        "\n",
        "3. Fit the classifier on the training data (X_train, y_train).\n",
        "\n",
        "4. Use the trained model to make predictions on the test data (X_test).\n",
        "\n",
        "5. Print the first 10 actual target values from y_test and the first 10 predicted values."
      ],
      "metadata": {
        "id": "_ltr5m2ENRaP"
      }
    },
    {
      "cell_type": "markdown",
      "source": [
        "### Exercise 4: Model Evaluation\n",
        "- Concept: How do you know if your model is any good? Evaluation metrics quantify model performance. For classification, accuracy is a common metric.\n",
        "\n",
        "- Complete Code Example:"
      ],
      "metadata": {
        "id": "x0Y28Kd7NbwH"
      }
    },
    {
      "cell_type": "code",
      "source": [
        "from sklearn.datasets import make_classification\n",
        "from sklearn.model_selection import train_test_split\n",
        "from sklearn.linear_model import LogisticRegression\n",
        "from sklearn.metrics import accuracy_score\n",
        "\n",
        "# Create dummy data\n",
        "X, y = make_classification(n_samples=100, n_features=10, random_state=42)\n",
        "X_train, X_test, y_train, y_test = train_test_split(X, y, random_state=42)\n",
        "\n",
        "model = LogisticRegression()\n",
        "model.fit(X_train, y_train)\n",
        "y_pred = model.predict(X_test)\n",
        "\n",
        "# Calculate accuracy\n",
        "accuracy = accuracy_score(y_test, y_pred)\n",
        "print(f\"Model accuracy: {accuracy:.4f}\") # e.g., 0.8800\n"
      ],
      "metadata": {
        "colab": {
          "base_uri": "https://localhost:8080/"
        },
        "id": "VQwaM-CnNPCO",
        "outputId": "1137c377-e8ff-4f7c-bb59-d2e6b1d6f39f"
      },
      "execution_count": null,
      "outputs": [
        {
          "output_type": "stream",
          "name": "stdout",
          "text": [
            "Model accuracy: 0.9600\n"
          ]
        }
      ]
    },
    {
      "cell_type": "markdown",
      "source": [
        "- Student Exercise:\n",
        "\n",
        "1. Continuing from the previous exercise with the Iris dataset and your trained KNeighborsClassifier.\n",
        "\n",
        "2. Import the accuracy_score and confusion_matrix functions from sklearn.metrics.\n",
        "\n",
        "3. Calculate the accuracy of your model by comparing y_test and your predictions.\n",
        "\n",
        "4. Print the accuracy.\n",
        "\n",
        "5. Generate and print the confusion matrix to see where the model made mistakes."
      ],
      "metadata": {
        "id": "VCUoluEZNrqt"
      }
    },
    {
      "cell_type": "markdown",
      "source": [
        "### Exercise 5: Data Preprocessing (Scaling)\n",
        "- Concept: Many machine learning algorithms perform better when numerical input features are scaled to a standard range. StandardScaler standardizes features by removing the mean and scaling to unit variance.\n",
        "\n",
        "- Complete Code Example:"
      ],
      "metadata": {
        "id": "BVKlsBgpN1nw"
      }
    },
    {
      "cell_type": "code",
      "source": [
        "import numpy as np\n",
        "from sklearn.preprocessing import StandardScaler\n",
        "\n",
        "# Sample data with different scales\n",
        "data = np.array([[1000, 10], [1500, 12], [800, 8]])\n",
        "print(\"Original Data:\\n\", data)\n",
        "\n",
        "# 1. Initialize the scaler\n",
        "scaler = StandardScaler()\n",
        "\n",
        "# 2. Fit the scaler to the data and transform it\n",
        "scaled_data = scaler.fit_transform(data)\n",
        "\n",
        "print(\"\\nScaled Data (mean ~0, std dev ~1):\\n\", scaled_data)\n"
      ],
      "metadata": {
        "colab": {
          "base_uri": "https://localhost:8080/"
        },
        "id": "1IXZF-5mNpkw",
        "outputId": "64dffd4e-d025-44d0-abf4-e580cac26a24"
      },
      "execution_count": null,
      "outputs": [
        {
          "output_type": "stream",
          "name": "stdout",
          "text": [
            "Original Data:\n",
            " [[1000   10]\n",
            " [1500   12]\n",
            " [ 800    8]]\n",
            "\n",
            "Scaled Data (mean ~0, std dev ~1):\n",
            " [[-0.33968311  0.        ]\n",
            " [ 1.35873244  1.22474487]\n",
            " [-1.01904933 -1.22474487]]\n"
          ]
        }
      ]
    },
    {
      "cell_type": "markdown",
      "source": [
        "- Student Exercise:\n",
        "\n",
        "1. Create a 10x2 NumPy array of random numbers. The first column should be random numbers between 0 and 1, and the second column should be random numbers between 100 and 200.\n",
        "\n",
        "2. Print the mean and standard deviation of each column of your original data.\n",
        "\n",
        "3. Initialize a StandardScaler.\n",
        "\n",
        "4. Fit and transform your data using the scaler.\n",
        "\n",
        "5. Print the mean and standard deviation of each column of the new, scaled data. (They should be very close to 0 and 1, respectively)."
      ],
      "metadata": {
        "id": "Ls2x9yg4N8jQ"
      }
    },
    {
      "cell_type": "code",
      "source": [],
      "metadata": {
        "id": "mtw8QFt0N6fH"
      },
      "execution_count": null,
      "outputs": []
    }
  ]
}